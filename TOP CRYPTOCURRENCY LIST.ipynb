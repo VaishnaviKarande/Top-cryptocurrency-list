{
 "cells": [
  {
   "cell_type": "code",
   "execution_count": 1,
   "id": "9f970103",
   "metadata": {},
   "outputs": [],
   "source": [
    "#Extracting the details of top 100 cryptocurrenices based on their Market Capitalization from the website CoinMarketCap"
   ]
  },
  {
   "cell_type": "code",
   "execution_count": 2,
   "id": "c1b4c322",
   "metadata": {},
   "outputs": [],
   "source": [
    "#Importing  the \"requests\" library\n",
    "import requests"
   ]
  },
  {
   "cell_type": "code",
   "execution_count": 3,
   "id": "edcde7d7",
   "metadata": {},
   "outputs": [],
   "source": [
    "#Importing Beautiful Soup from bs4\n",
    "from bs4 import BeautifulSoup"
   ]
  },
  {
   "cell_type": "code",
   "execution_count": 4,
   "id": "b4011cc3",
   "metadata": {},
   "outputs": [],
   "source": [
    "\n",
    "\n",
    "# The tags for Cryptocurrencies ranking from `1 to 10` are different from those ranking from `11 t0 100`.\n",
    "\n",
    "\n",
    "#1. ***Part 1*** - Writing a function to extract `7` cyrptocurrency's details like **rank, symbol, image, name, price in USD, Market Capitilzation and URL** for the first 10 Cryptocurrencies.\n",
    "\n",
    "#2. ***Part 2*** - Writing a function to extract only `4` cyrptocurrency's details like **symbol, name, price in USD and URL** from 11 to 100 Cryptocurrencies. \n",
    "\n",
    "#3. ***Part 3*** - Inorder to keep consistency, writing a function that will extract the exactly `4` details that are common to both the sets i.e. `top 10` and `11 to 100`. The common details are **symbol, name, price in USD and URL**\n",
    "\n",
    "#4. ***Part 4*** - Adding the rank number from 1 to 100, as the cryptocurrenies are written into the file based on their rank\n",
    "\n",
    "#5. ***Part 5*** - Merging the all the deatils of 100 cryptocurrencies with the rank numbers\n",
    "\n",
    "#6. ***Part 6*** - End user function that scraps any page of the website from [https://coinmarketcap.com/](https://coinmarketcap.com/)\n",
    "    \n",
    "        "
   ]
  },
  {
   "cell_type": "code",
   "execution_count": 5,
   "id": "894c4d0a",
   "metadata": {},
   "outputs": [],
   "source": [
    "topic_url='https://coinmarketcap.com'"
   ]
  },
  {
   "cell_type": "code",
   "execution_count": 6,
   "id": "b537d716",
   "metadata": {},
   "outputs": [],
   "source": [
    "#Downloading a web page using the `requests.get` function.\n",
    "response = requests.get(topic_url)"
   ]
  },
  {
   "cell_type": "code",
   "execution_count": 7,
   "id": "3545be17",
   "metadata": {},
   "outputs": [
    {
     "data": {
      "text/plain": [
       "requests.models.Response"
      ]
     },
     "execution_count": 7,
     "metadata": {},
     "output_type": "execute_result"
    }
   ],
   "source": [
    "type(response)"
   ]
  },
  {
   "cell_type": "code",
   "execution_count": 8,
   "id": "3a3368c3",
   "metadata": {},
   "outputs": [
    {
     "data": {
      "text/plain": [
       "200"
      ]
     },
     "execution_count": 8,
     "metadata": {},
     "output_type": "execute_result"
    }
   ],
   "source": [
    "response.status_code"
   ]
  },
  {
   "cell_type": "code",
   "execution_count": 9,
   "id": "c3564436",
   "metadata": {},
   "outputs": [],
   "source": [
    "page_contents = response.text"
   ]
  },
  {
   "cell_type": "code",
   "execution_count": 10,
   "id": "0d9191bf",
   "metadata": {},
   "outputs": [
    {
     "data": {
      "text/plain": [
       "487765"
      ]
     },
     "execution_count": 10,
     "metadata": {},
     "output_type": "execute_result"
    }
   ],
   "source": [
    "len(page_contents)"
   ]
  },
  {
   "cell_type": "code",
   "execution_count": 11,
   "id": "6af77a65",
   "metadata": {},
   "outputs": [
    {
     "data": {
      "text/plain": [
       "'<!DOCTYPE html><html lang=\"en\"><head><script crossorigin=\"anonymous\">\\n(function(c,u,v,n,p,e,z,A,w){function k(a){if(!x){x=!0;var l=u.getElementsByTagName(v)[0],d=u.createElement(v);d.src=A;d.crossOrigin=\"anonymous\";d.addEventListener(\"load\",function(){try{c[n]=r;c[p]=t;var b=c[e],d=b.init;b.init=function(a){for(var b in a)Object.prototype.hasOwnProperty.call(a,b)&&(w[b]=a[b]);d(w)};B(a,b)}catch(g){console.error(g)}});l.parentNode.insertBefore(d,l)}}function B(a,l){try{for(var d=m.data,b=0;b<a.length;b++)if(\"function\"===typeof a[b])a[b]();var e=!1,g=c.__SENTRY__;\"undefined\"!==\\ntypeof g&&g.hub&&g.hub.getClient()&&(e=!0);g=!1;for(b=0;b<d.length;b++)if(d[b].f){g=!0;var f=d[b];!1===e&&\"init\"!==f.f&&l.init();e=!0;l[f.f].apply(l,f.a)}!1===e&&!1===g&&l.init();var h=c[n],k=c[p];for(b=0;b<d.length;b++)d[b].e&&h?h.apply(c,d[b].e):d[b].p&&k&&k.apply(c,[d[b].p])}catch(C){console.error(C)}}for(var f=!0,y=!1,q=0;q<document.scripts.length;q++)if(-1<document.scripts[q].src.indexOf(z)){f=\"no\"!==document'"
      ]
     },
     "execution_count": 11,
     "metadata": {},
     "output_type": "execute_result"
    }
   ],
   "source": [
    "page_contents[:1000]"
   ]
  },
  {
   "cell_type": "code",
   "execution_count": 12,
   "id": "518e0401",
   "metadata": {},
   "outputs": [],
   "source": [
    "#It defines the content and structure of the web page. Saving the contents to a file with the `.html` extension."
   ]
  },
  {
   "cell_type": "code",
   "execution_count": 13,
   "id": "e28e664f",
   "metadata": {},
   "outputs": [],
   "source": [
    "with open('website_content.html', 'w') as file:\n",
    "    file.write(page_contents)"
   ]
  },
  {
   "cell_type": "code",
   "execution_count": 14,
   "id": "352220cc",
   "metadata": {},
   "outputs": [],
   "source": [
    "#Read the contents of the file `website_content.html`"
   ]
  },
  {
   "cell_type": "code",
   "execution_count": 15,
   "id": "b479386f",
   "metadata": {},
   "outputs": [],
   "source": [
    "with open('website_content.html', 'r') as f:\n",
    "    html_source = f.read()"
   ]
  },
  {
   "cell_type": "code",
   "execution_count": 16,
   "id": "d59bcca1",
   "metadata": {},
   "outputs": [],
   "source": [
    "#Creating a `BeautifulSoup` object in order to parse the content.\n",
    "document = BeautifulSoup(html_source)"
   ]
  },
  {
   "cell_type": "code",
   "execution_count": 17,
   "id": "e0eaca18",
   "metadata": {},
   "outputs": [
    {
     "data": {
      "text/plain": [
       "bs4.BeautifulSoup"
      ]
     },
     "execution_count": 17,
     "metadata": {},
     "output_type": "execute_result"
    }
   ],
   "source": [
    "type(document)"
   ]
  },
  {
   "cell_type": "code",
   "execution_count": 18,
   "id": "0ece822b",
   "metadata": {},
   "outputs": [],
   "source": [
    "# `page_number` is an optional argument.  The default page will be `1`.\n",
    "#If page number other than `1` needs to be scrapped, pass the page number as the second argument to the function.\n",
    "\n",
    "def get_topic_page(topic, page_number = 1):\n",
    "    \n",
    "    topic_with_page= topic + '/page=' + str(page_number)\n",
    "    response = requests.get(topic)\n",
    "\n",
    "    #Writing the parsed contents into a .html file, inorder to see if all the required data is visible when .html document is viewed  \n",
    "    with open('Cryptocurrency.html', 'w') as f:\n",
    "        f.write(response.text)\n",
    "    \n",
    "    if not response.ok:\n",
    "        print('Status code:', response.status_code)\n",
    "        raise Exception('Failed to fetch web page' + topic)\n",
    "    \n",
    "    return BeautifulSoup(response.text)\n",
    "        "
   ]
  },
  {
   "cell_type": "code",
   "execution_count": 19,
   "id": "18c9cba4",
   "metadata": {},
   "outputs": [],
   "source": [
    "topic='https://coinmarketcap.com'\n",
    "doc= get_topic_page(topic)"
   ]
  },
  {
   "cell_type": "code",
   "execution_count": 20,
   "id": "73a38498",
   "metadata": {},
   "outputs": [
    {
     "data": {
      "text/plain": [
       "bs4.BeautifulSoup"
      ]
     },
     "execution_count": 20,
     "metadata": {},
     "output_type": "execute_result"
    }
   ],
   "source": [
    "type(doc)"
   ]
  },
  {
   "cell_type": "code",
   "execution_count": 21,
   "id": "db618676",
   "metadata": {},
   "outputs": [
    {
     "data": {
      "text/plain": [
       "<title>Cryptocurrency Prices, Charts And Market Capitalizations | CoinMarketCap</title>"
      ]
     },
     "execution_count": 21,
     "metadata": {},
     "output_type": "execute_result"
    }
   ],
   "source": [
    "doc.title"
   ]
  },
  {
   "cell_type": "code",
   "execution_count": 22,
   "id": "c1898d31",
   "metadata": {},
   "outputs": [
    {
     "data": {
      "text/plain": [
       "bs4.element.Tag"
      ]
     },
     "execution_count": 22,
     "metadata": {},
     "output_type": "execute_result"
    }
   ],
   "source": [
    "type(doc.title)"
   ]
  },
  {
   "cell_type": "code",
   "execution_count": 23,
   "id": "44b57f74",
   "metadata": {},
   "outputs": [
    {
     "data": {
      "text/plain": [
       "'Cryptocurrency Prices, Charts And Market Capitalizations | CoinMarketCap'"
      ]
     },
     "execution_count": 23,
     "metadata": {},
     "output_type": "execute_result"
    }
   ],
   "source": [
    "doc.title.text"
   ]
  },
  {
   "cell_type": "code",
   "execution_count": 24,
   "id": "b34614b6",
   "metadata": {},
   "outputs": [
    {
     "data": {
      "text/plain": [
       "'#NamePrice24h %7d %Market CapVolume(24h)Circulating SupplyLast 7 Days'"
      ]
     },
     "execution_count": 24,
     "metadata": {},
     "output_type": "execute_result"
    }
   ],
   "source": [
    "doc.thead.text"
   ]
  },
  {
   "cell_type": "code",
   "execution_count": 25,
   "id": "7ecc8cee",
   "metadata": {},
   "outputs": [
    {
     "data": {
      "text/plain": [
       "'1Bitcoin1BTCBuy$35,983.146.67%14.21%$682.50B$682,499,001,187$41,722,829,2691,159,510 BTC18,967,187 BTC2Ethereum2ETHBuy$2,459.888.59%17.63%$294.48B$294,479,826,811$24,766,970,68410,068,374 ETH119,713,185 ETH3Tether3USDT$1.000.01%0.01%$79.52B$79,515,830,824$96,648,081,73196,597,975,782 USDT79,474,606,869 USDT4BNB4BNBBuy$345.278.75%16.47%$57.01B$57,010,236,754$2,648,941,0127,672,035 BNB165,116,761 BNB5USD Coin5USDC$1.000.10%0.05%$53.06B$53,062,383,957$7,537,236,3137,534,980,523 USDC53,046,503,124 USDC6XRP6XRP$0.65239.99%18.58%$31.28B$31,277,341,081$4,360,717,9636,685,136,407 XRP47,949,281,138 XRP7Cardano7ADA$0.811611.92%22.76%$27.29B$27,290,385,108$3,259,413,1394,016,159,332 ADA33,626,462,852 ADA8Solana8SOLBuy$84.995.33%12.54%$27.19B$27,191,144,638$4,396,697,35451,731,393 SOL319,930,094 SOL9Terra9LUNABuy$57.971.26%6.92%$22.23B$22,225,366,219$5,297,807,24591,382,176 LUNA383,366,596 LUNA10Binance USD10BUSD$0.99980.05%0.06%$18.31B$18,307,823,455$7,720,119,7077,721,895,068 BUSD18,312,033,623 BUSDAvalancheAVAX$71.42DogecoinDOGE$0.12PolkadotDOT$15.44Shiba InuSHIB$0.00TerraUSDUST$1.00PolygonMATIC$1.36DaiDAI$1.00Wrapped BitcoinWBTC$35933.90CronosCRO$0.37LitecoinLTC$98.14CosmosATOM$23.42TRONTRX$0.06ChainlinkLINK$12.31FTX TokenFTT$39.65UniswapUNI$8.30UNUS SED LEOLEO$5.48Bitcoin CashBCH$273.78NEAR ProtocolNEAR$8.03AlgorandALGO$0.75DecentralandMANA$2.42StellarXLM$0.17HederaHBAR$0.20Bitcoin BEP2BTCB$35869.07FantomFTM$1.42Ethereum ClassicETC$24.84Internet ComputerICP$15.91The SandboxSAND$2.83KlaytnKLAY$1.16FilecoinFIL$17.66ElrondEGLD$129.00Axie InfinityAXS$44.85VeChainVET$0.04MoneroXMR$139.58TezosXTZ$2.81Theta NetworkTHETA$2.46HeliumHNT$21.55EOSEOS$1.96IOTAMIOTA$0.67MakerMKR$1730.19FlowFLOW$5.05AaveAAVE$121.20BitTorrent (New)BTT$0.00PancakeSwapCAKE$6.00The GraphGRT$0.34Bitcoin SVBSV$78.54GalaGALA$0.21TrueUSDTUSD$1.00HarmonyONE$0.12StacksSTX$1.05KuCoin TokenKCS$16.99Huobi TokenHT$8.44NeoNEO$18.57ZcashZEC$93.94eCashXEC$0.00QuantQNT$104.13Enjin CoinENJ$1.25THORChainRUNE$3.18NexoNEXO$1.80AmpAMP$0.02OKBOKB$16.36KadenaKDA$5.66Pax DollarUSDP$1.01KusamaKSM$111.62WavesWAVES$8.75Curve DAO TokenCRV$2.06ChilizCHZ$0.15LoopringLRC$0.69Basic Attention TokenBAT$0.61Convex FinanceCVX$17.42DashDASH$83.49CeloCELO$2.16ArweaveAR$24.37NEMXEM$0.09Theta FuelTFUEL$0.14BORABORA$0.87Anchor ProtocolANC$2.90SecretSCRT$4.52MinaMINA$1.89SymbolXYM$0.13Oasis NetworkROSE$0.20yearn.financeYFI$18701.86CompoundCOMP$102.71HoloHOT$0.00DecredDCR$48.28CelsiusCEL$2.78IoTeXIOTX$0.07renBTCRENBTC$35944.78XDC NetworkXDC$0.05GnosisGNO$301.87QtumQTUM$5.46'"
      ]
     },
     "execution_count": 25,
     "metadata": {},
     "output_type": "execute_result"
    }
   ],
   "source": [
    "doc.tbody.text"
   ]
  },
  {
   "cell_type": "code",
   "execution_count": 26,
   "id": "568c6af3",
   "metadata": {},
   "outputs": [],
   "source": [
    "tr_head = doc.thead.find_all('tr')"
   ]
  },
  {
   "cell_type": "code",
   "execution_count": 27,
   "id": "10b9e2d8",
   "metadata": {},
   "outputs": [
    {
     "data": {
      "text/plain": [
       "1"
      ]
     },
     "execution_count": 27,
     "metadata": {},
     "output_type": "execute_result"
    }
   ],
   "source": [
    "len(tr_head)"
   ]
  },
  {
   "cell_type": "code",
   "execution_count": 28,
   "id": "2b637d0e",
   "metadata": {},
   "outputs": [
    {
     "data": {
      "text/plain": [
       "'#NamePrice24h %7d %Market CapVolume(24h)Circulating SupplyLast 7 Days'"
      ]
     },
     "execution_count": 28,
     "metadata": {},
     "output_type": "execute_result"
    }
   ],
   "source": [
    "tr_head[0].text"
   ]
  },
  {
   "cell_type": "code",
   "execution_count": 29,
   "id": "1f0e7c46",
   "metadata": {},
   "outputs": [],
   "source": [
    "tr_tags = doc.tbody.find_all('tr')"
   ]
  },
  {
   "cell_type": "code",
   "execution_count": 30,
   "id": "4e81a643",
   "metadata": {},
   "outputs": [
    {
     "data": {
      "text/plain": [
       "100"
      ]
     },
     "execution_count": 30,
     "metadata": {},
     "output_type": "execute_result"
    }
   ],
   "source": [
    "len(tr_tags)"
   ]
  },
  {
   "cell_type": "code",
   "execution_count": 31,
   "id": "a7a526a3",
   "metadata": {},
   "outputs": [
    {
     "data": {
      "text/plain": [
       "'1Bitcoin1BTCBuy$35,983.146.67%14.21%$682.50B$682,499,001,187$41,722,829,2691,159,510 BTC18,967,187 BTC'"
      ]
     },
     "execution_count": 31,
     "metadata": {},
     "output_type": "execute_result"
    }
   ],
   "source": [
    "tr_tags[0].text"
   ]
  },
  {
   "cell_type": "code",
   "execution_count": 32,
   "id": "79474b13",
   "metadata": {},
   "outputs": [],
   "source": [
    "tr_tag = tr_tags[0]\n",
    "\n",
    "div_tags = tr_tag.find_all('div')"
   ]
  },
  {
   "cell_type": "code",
   "execution_count": 33,
   "id": "45b685a4",
   "metadata": {},
   "outputs": [
    {
     "data": {
      "text/plain": [
       "16"
      ]
     },
     "execution_count": 33,
     "metadata": {},
     "output_type": "execute_result"
    }
   ],
   "source": [
    "len(div_tags)"
   ]
  },
  {
   "cell_type": "code",
   "execution_count": 34,
   "id": "c4cfa428",
   "metadata": {},
   "outputs": [
    {
     "data": {
      "text/plain": [
       "[<div class=\"sc-16r8icm-0 escjiH\" display=\"flex\"><a class=\"cmc-link\" href=\"/currencies/bitcoin/\"><div class=\"sc-16r8icm-0 sc-1teo54s-0 dBKWCw\"><img alt=\"BTC logo\" class=\"coin-logo\" loading=\"lazy\" src=\"https://s2.coinmarketcap.com/static/img/coins/64x64/1.png\"/><div class=\"sc-16r8icm-0 sc-1teo54s-1 dNOTPP\"><p class=\"sc-1eb5slv-0 iworPT\" color=\"text\" font-size=\"1\" font-weight=\"semibold\">Bitcoin</p><div class=\"sc-1teo54s-2 fZIJcI\" data-nosnippet=\"true\"><div class=\"sc-1teo54s-3 etWhyV\">1</div><p class=\"sc-1eb5slv-0 gGIpIK coin-item-symbol\" color=\"text3\" font-size=\"1\">BTC</p></div></div></div></a><div class=\"sc-16r8icm-0 bKmQGi\"><div data-nosnippet=\"true\"><div class=\"sc-1x3bens-0 hRpznX\"><button class=\"x0o17e-0 kPvqGV\" style=\"white-space:nowrap;background:var(--theme-light-blue);color:var(--theme-light-blue-font)\">Buy</button></div></div></div></div>,\n",
       " <div class=\"sc-16r8icm-0 sc-1teo54s-0 dBKWCw\"><img alt=\"BTC logo\" class=\"coin-logo\" loading=\"lazy\" src=\"https://s2.coinmarketcap.com/static/img/coins/64x64/1.png\"/><div class=\"sc-16r8icm-0 sc-1teo54s-1 dNOTPP\"><p class=\"sc-1eb5slv-0 iworPT\" color=\"text\" font-size=\"1\" font-weight=\"semibold\">Bitcoin</p><div class=\"sc-1teo54s-2 fZIJcI\" data-nosnippet=\"true\"><div class=\"sc-1teo54s-3 etWhyV\">1</div><p class=\"sc-1eb5slv-0 gGIpIK coin-item-symbol\" color=\"text3\" font-size=\"1\">BTC</p></div></div></div>]"
      ]
     },
     "execution_count": 34,
     "metadata": {},
     "output_type": "execute_result"
    }
   ],
   "source": [
    "div_tags[0:2]"
   ]
  },
  {
   "cell_type": "code",
   "execution_count": 35,
   "id": "8283b3ee",
   "metadata": {},
   "outputs": [],
   "source": [
    "td_tags = tr_tag.find_all('td')"
   ]
  },
  {
   "cell_type": "code",
   "execution_count": 36,
   "id": "d1130ed7",
   "metadata": {},
   "outputs": [
    {
     "data": {
      "text/plain": [
       "11"
      ]
     },
     "execution_count": 36,
     "metadata": {},
     "output_type": "execute_result"
    }
   ],
   "source": [
    "len(td_tags)"
   ]
  },
  {
   "cell_type": "code",
   "execution_count": 37,
   "id": "78d1e726",
   "metadata": {},
   "outputs": [
    {
     "data": {
      "text/plain": [
       "<div class=\"sc-16r8icm-0 escjiH\" display=\"flex\"><a class=\"cmc-link\" href=\"/currencies/bitcoin/\"><div class=\"sc-16r8icm-0 sc-1teo54s-0 dBKWCw\"><img alt=\"BTC logo\" class=\"coin-logo\" loading=\"lazy\" src=\"https://s2.coinmarketcap.com/static/img/coins/64x64/1.png\"/><div class=\"sc-16r8icm-0 sc-1teo54s-1 dNOTPP\"><p class=\"sc-1eb5slv-0 iworPT\" color=\"text\" font-size=\"1\" font-weight=\"semibold\">Bitcoin</p><div class=\"sc-1teo54s-2 fZIJcI\" data-nosnippet=\"true\"><div class=\"sc-1teo54s-3 etWhyV\">1</div><p class=\"sc-1eb5slv-0 gGIpIK coin-item-symbol\" color=\"text3\" font-size=\"1\">BTC</p></div></div></div></a><div class=\"sc-16r8icm-0 bKmQGi\"><div data-nosnippet=\"true\"><div class=\"sc-1x3bens-0 hRpznX\"><button class=\"x0o17e-0 kPvqGV\" style=\"white-space:nowrap;background:var(--theme-light-blue);color:var(--theme-light-blue-font)\">Buy</button></div></div></div></div>"
      ]
     },
     "execution_count": 37,
     "metadata": {},
     "output_type": "execute_result"
    }
   ],
   "source": [
    "td_tags[2].div"
   ]
  },
  {
   "cell_type": "code",
   "execution_count": 38,
   "id": "0d81f6c7",
   "metadata": {},
   "outputs": [
    {
     "data": {
      "text/plain": [
       "2"
      ]
     },
     "execution_count": 38,
     "metadata": {},
     "output_type": "execute_result"
    }
   ],
   "source": [
    "len(td_tags[2].div)"
   ]
  },
  {
   "cell_type": "code",
   "execution_count": 39,
   "id": "8a17f0c6",
   "metadata": {},
   "outputs": [
    {
     "data": {
      "text/plain": [
       "'Bitcoin1BTCBuy'"
      ]
     },
     "execution_count": 39,
     "metadata": {},
     "output_type": "execute_result"
    }
   ],
   "source": [
    "td_tags[2].div.text"
   ]
  },
  {
   "cell_type": "code",
   "execution_count": 40,
   "id": "b1812a61",
   "metadata": {},
   "outputs": [
    {
     "data": {
      "text/plain": [
       "[<div class=\"sc-16r8icm-0 escjiH\" display=\"flex\"><a class=\"cmc-link\" href=\"/currencies/bitcoin/\"><div class=\"sc-16r8icm-0 sc-1teo54s-0 dBKWCw\"><img alt=\"BTC logo\" class=\"coin-logo\" loading=\"lazy\" src=\"https://s2.coinmarketcap.com/static/img/coins/64x64/1.png\"/><div class=\"sc-16r8icm-0 sc-1teo54s-1 dNOTPP\"><p class=\"sc-1eb5slv-0 iworPT\" color=\"text\" font-size=\"1\" font-weight=\"semibold\">Bitcoin</p><div class=\"sc-1teo54s-2 fZIJcI\" data-nosnippet=\"true\"><div class=\"sc-1teo54s-3 etWhyV\">1</div><p class=\"sc-1eb5slv-0 gGIpIK coin-item-symbol\" color=\"text3\" font-size=\"1\">BTC</p></div></div></div></a><div class=\"sc-16r8icm-0 bKmQGi\"><div data-nosnippet=\"true\"><div class=\"sc-1x3bens-0 hRpznX\"><button class=\"x0o17e-0 kPvqGV\" style=\"white-space:nowrap;background:var(--theme-light-blue);color:var(--theme-light-blue-font)\">Buy</button></div></div></div></div>]"
      ]
     },
     "execution_count": 40,
     "metadata": {},
     "output_type": "execute_result"
    }
   ],
   "source": [
    "td_tag=td_tags[2]\n",
    "\n",
    "div_in_td = td_tag.find_all('div', class_='sc-16r8icm-0 escjiH')\n",
    "div_in_td"
   ]
  },
  {
   "cell_type": "code",
   "execution_count": 41,
   "id": "0aaeec7c",
   "metadata": {},
   "outputs": [
    {
     "data": {
      "text/plain": [
       "1"
      ]
     },
     "execution_count": 41,
     "metadata": {},
     "output_type": "execute_result"
    }
   ],
   "source": [
    "len(div_in_td)"
   ]
  },
  {
   "cell_type": "code",
   "execution_count": 42,
   "id": "e52eefda",
   "metadata": {},
   "outputs": [
    {
     "data": {
      "text/plain": [
       "bs4.element.ResultSet"
      ]
     },
     "execution_count": 42,
     "metadata": {},
     "output_type": "execute_result"
    }
   ],
   "source": [
    "type(div_in_td)"
   ]
  },
  {
   "cell_type": "code",
   "execution_count": 43,
   "id": "c40cbbe6",
   "metadata": {},
   "outputs": [
    {
     "data": {
      "text/plain": [
       "'Bitcoin1BTCBuy'"
      ]
     },
     "execution_count": 43,
     "metadata": {},
     "output_type": "execute_result"
    }
   ],
   "source": [
    "div_in_td[0].text"
   ]
  },
  {
   "cell_type": "code",
   "execution_count": 44,
   "id": "1f6b4ba6",
   "metadata": {},
   "outputs": [
    {
     "data": {
      "text/plain": [
       "'BTC'"
      ]
     },
     "execution_count": 44,
     "metadata": {},
     "output_type": "execute_result"
    }
   ],
   "source": [
    "symbol= div_in_td[0].find_all('p', class_='sc-1eb5slv-0 gGIpIK coin-item-symbol')\n",
    "symbol[0].text"
   ]
  },
  {
   "cell_type": "code",
   "execution_count": 45,
   "id": "261724a5",
   "metadata": {},
   "outputs": [
    {
     "data": {
      "text/plain": [
       "'Bitcoin'"
      ]
     },
     "execution_count": 45,
     "metadata": {},
     "output_type": "execute_result"
    }
   ],
   "source": [
    "name= div_in_td[0].find_all('p', class_='sc-1eb5slv-0 iworPT')\n",
    "name[0].text"
   ]
  },
  {
   "cell_type": "code",
   "execution_count": 46,
   "id": "c0d89ed6",
   "metadata": {},
   "outputs": [
    {
     "data": {
      "text/plain": [
       "'1'"
      ]
     },
     "execution_count": 46,
     "metadata": {},
     "output_type": "execute_result"
    }
   ],
   "source": [
    "rank= div_in_td[0].find_all('div', class_='sc-1teo54s-3 etWhyV')\n",
    "rank[0].text"
   ]
  },
  {
   "cell_type": "code",
   "execution_count": 47,
   "id": "186c1aa9",
   "metadata": {},
   "outputs": [
    {
     "data": {
      "text/plain": [
       "'$35,983.14'"
      ]
     },
     "execution_count": 47,
     "metadata": {},
     "output_type": "execute_result"
    }
   ],
   "source": [
    "price_in_USD= td_tags[3].text\n",
    "price_in_USD"
   ]
  },
  {
   "cell_type": "code",
   "execution_count": 48,
   "id": "894f152a",
   "metadata": {},
   "outputs": [
    {
     "data": {
      "text/plain": [
       "'$35983.14'"
      ]
     },
     "execution_count": 48,
     "metadata": {},
     "output_type": "execute_result"
    }
   ],
   "source": [
    "price_in_USD.replace(',','')"
   ]
  },
  {
   "cell_type": "code",
   "execution_count": 49,
   "id": "08ba2148",
   "metadata": {},
   "outputs": [
    {
     "data": {
      "text/plain": [
       "'$682.50B$682,499,001,187'"
      ]
     },
     "execution_count": 49,
     "metadata": {},
     "output_type": "execute_result"
    }
   ],
   "source": [
    "Market_Capitalization= td_tags[6].text\n",
    "Market_Capitalization"
   ]
  },
  {
   "cell_type": "code",
   "execution_count": 50,
   "id": "aae15cdd",
   "metadata": {},
   "outputs": [],
   "source": [
    "base_url = 'https://coinmarketcap.com'"
   ]
  },
  {
   "cell_type": "code",
   "execution_count": 51,
   "id": "afc1513b",
   "metadata": {},
   "outputs": [
    {
     "data": {
      "text/plain": [
       "'/currencies/bitcoin/'"
      ]
     },
     "execution_count": 51,
     "metadata": {},
     "output_type": "execute_result"
    }
   ],
   "source": [
    "url_Cryptocurrency = td_tag.a['href'].strip()\n",
    "url_Cryptocurrency"
   ]
  },
  {
   "cell_type": "code",
   "execution_count": 52,
   "id": "8bed2fbe",
   "metadata": {},
   "outputs": [
    {
     "data": {
      "text/plain": [
       "'https://coinmarketcap.com/currencies/bitcoin/'"
      ]
     },
     "execution_count": 52,
     "metadata": {},
     "output_type": "execute_result"
    }
   ],
   "source": [
    "url = base_url + url_Cryptocurrency\n",
    "url"
   ]
  },
  {
   "cell_type": "code",
   "execution_count": 53,
   "id": "c59b6cfb",
   "metadata": {},
   "outputs": [
    {
     "data": {
      "text/plain": [
       "'https://s2.coinmarketcap.com/static/img/coins/64x64/1.png'"
      ]
     },
     "execution_count": 53,
     "metadata": {},
     "output_type": "execute_result"
    }
   ],
   "source": [
    "img_in_div= td_tag.find_all('div', class_='sc-16r8icm-0 escjiH')\n",
    "image= img_in_div[0].img['src']\n",
    "image"
   ]
  },
  {
   "cell_type": "code",
   "execution_count": 54,
   "id": "70938e78",
   "metadata": {},
   "outputs": [],
   "source": [
    "# Part 1 - Cryptocurrencies ranking form 1 to 10"
   ]
  },
  {
   "cell_type": "code",
   "execution_count": 55,
   "id": "2fe9889c",
   "metadata": {},
   "outputs": [],
   "source": [
    "# Function for to get all the details of any cryptocurrencies that are ranked form 1 to 10 \n",
    "\n",
    "def cryptocurrency_part_one(tr_tag):\n",
    "    \n",
    "    td_tags = tr_tag.find_all('td')\n",
    "    td_tag=td_tags[2]\n",
    "    div_in_td = td_tag.find_all('div', class_='sc-16r8icm-0 escjiH') \n",
    "    rank = div_in_td[0].find_all('div', class_='sc-1teo54s-3 etWhyV')\n",
    "    symbol= div_in_td[0].find_all('p', class_='sc-1eb5slv-0 gGIpIK coin-item-symbol')\n",
    "    img_in_div= td_tag.find_all('div', class_='sc-16r8icm-0 escjiH')\n",
    "    image = img_in_div[0].img['src']\n",
    "    name = div_in_td[0].find_all('p', class_='sc-1eb5slv-0 iworPT')\n",
    "    price_in_USD1 = td_tags[3].text\n",
    "    price_in_USD = price_in_USD1.replace(',','')\n",
    "    Market_Capitalization= td_tags[6].text\n",
    "    base_url = 'https://coinmarketcap.com'\n",
    "    url_Cryptocurrency = td_tag.a['href'].strip()\n",
    "    URL = base_url + url_Cryptocurrency   \n",
    "    return{\n",
    "        'rank': rank[0].text,\n",
    "        'symbol_of_Cruptocurrency': symbol[0].text,\n",
    "        'Image' : image,\n",
    "        'Name' : name[0].text, \n",
    "        'Price_in_USD' : price_in_USD,\n",
    "        'Market_Capitalization' : Market_Capitalization,\n",
    "        'url': URL\n",
    "    }"
   ]
  },
  {
   "cell_type": "code",
   "execution_count": 56,
   "id": "ccf6910c",
   "metadata": {},
   "outputs": [
    {
     "data": {
      "text/plain": [
       "{'rank': '1',\n",
       " 'symbol_of_Cruptocurrency': 'BTC',\n",
       " 'Image': 'https://s2.coinmarketcap.com/static/img/coins/64x64/1.png',\n",
       " 'Name': 'Bitcoin',\n",
       " 'Price_in_USD': '$35983.14',\n",
       " 'Market_Capitalization': '$682.50B$682,499,001,187',\n",
       " 'url': 'https://coinmarketcap.com/currencies/bitcoin/'}"
      ]
     },
     "execution_count": 56,
     "metadata": {},
     "output_type": "execute_result"
    }
   ],
   "source": [
    "cryptocurrency_part_one(tr_tags[0])"
   ]
  },
  {
   "cell_type": "code",
   "execution_count": 57,
   "id": "b24cfa39",
   "metadata": {},
   "outputs": [
    {
     "data": {
      "text/plain": [
       "{'rank': '5',\n",
       " 'symbol_of_Cruptocurrency': 'USDC',\n",
       " 'Image': 'https://s2.coinmarketcap.com/static/img/coins/64x64/3408.png',\n",
       " 'Name': 'USD Coin',\n",
       " 'Price_in_USD': '$1.00',\n",
       " 'Market_Capitalization': '$53.06B$53,062,383,957',\n",
       " 'url': 'https://coinmarketcap.com/currencies/usd-coin/'}"
      ]
     },
     "execution_count": 57,
     "metadata": {},
     "output_type": "execute_result"
    }
   ],
   "source": [
    "# Getting Cryptocurrency for other tr_tags\n",
    "cryptocurrency_part_one(tr_tags[4])"
   ]
  },
  {
   "cell_type": "code",
   "execution_count": 58,
   "id": "c5f31897",
   "metadata": {},
   "outputs": [
    {
     "data": {
      "text/plain": [
       "{'rank': '9',\n",
       " 'symbol_of_Cruptocurrency': 'LUNA',\n",
       " 'Image': 'https://s2.coinmarketcap.com/static/img/coins/64x64/4172.png',\n",
       " 'Name': 'Terra',\n",
       " 'Price_in_USD': '$57.97',\n",
       " 'Market_Capitalization': '$22.23B$22,225,366,219',\n",
       " 'url': 'https://coinmarketcap.com/currencies/terra-luna/'}"
      ]
     },
     "execution_count": 58,
     "metadata": {},
     "output_type": "execute_result"
    }
   ],
   "source": [
    "# Getting Cryptocurrency for other tr_tags\n",
    "cryptocurrency_part_one(tr_tags[8])"
   ]
  },
  {
   "cell_type": "code",
   "execution_count": 59,
   "id": "d30a376d",
   "metadata": {},
   "outputs": [
    {
     "data": {
      "text/plain": [
       "{'rank': '2',\n",
       " 'symbol_of_Cruptocurrency': 'ETH',\n",
       " 'Image': 'https://s2.coinmarketcap.com/static/img/coins/64x64/1027.png',\n",
       " 'Name': 'Ethereum',\n",
       " 'Price_in_USD': '$2459.88',\n",
       " 'Market_Capitalization': '$294.48B$294,479,826,811',\n",
       " 'url': 'https://coinmarketcap.com/currencies/ethereum/'}"
      ]
     },
     "execution_count": 59,
     "metadata": {},
     "output_type": "execute_result"
    }
   ],
   "source": [
    "# Getting Cryptocurrency for other tr_tags\n",
    "cryptocurrency_part_one(tr_tags[1])"
   ]
  },
  {
   "cell_type": "code",
   "execution_count": 60,
   "id": "72b82888",
   "metadata": {},
   "outputs": [
    {
     "data": {
      "text/plain": [
       "<tr class=\"sc-1rqmhtg-0 jUUSMS\"><td><span></span></td><td><span></span></td><td><a class=\"cmc-link\" href=\"/currencies/avalanche/\"><span class=\"circle\"></span><span>Avalanche</span><span class=\"crypto-symbol\">AVAX</span></a></td><td><span>$<!-- -->71.42</span></td><td><span></span></td></tr>"
      ]
     },
     "execution_count": 60,
     "metadata": {},
     "output_type": "execute_result"
    }
   ],
   "source": [
    "tr_tags[10]"
   ]
  },
  {
   "cell_type": "code",
   "execution_count": 61,
   "id": "6309b173",
   "metadata": {},
   "outputs": [
    {
     "data": {
      "text/plain": [
       "5"
      ]
     },
     "execution_count": 61,
     "metadata": {},
     "output_type": "execute_result"
    }
   ],
   "source": [
    "len(tr_tags[10])"
   ]
  },
  {
   "cell_type": "code",
   "execution_count": 62,
   "id": "ea731458",
   "metadata": {},
   "outputs": [
    {
     "data": {
      "text/plain": [
       "'AvalancheAVAX$71.42'"
      ]
     },
     "execution_count": 62,
     "metadata": {},
     "output_type": "execute_result"
    }
   ],
   "source": [
    "tr_tags[10].text"
   ]
  },
  {
   "cell_type": "code",
   "execution_count": 63,
   "id": "3b7531e5",
   "metadata": {},
   "outputs": [
    {
     "data": {
      "text/plain": [
       "5"
      ]
     },
     "execution_count": 63,
     "metadata": {},
     "output_type": "execute_result"
    }
   ],
   "source": [
    "td_tags_2= tr_tags[10].find_all('td')\n",
    "len(td_tags_2)"
   ]
  },
  {
   "cell_type": "code",
   "execution_count": 64,
   "id": "2012e59f",
   "metadata": {},
   "outputs": [
    {
     "data": {
      "text/plain": [
       "<td><a class=\"cmc-link\" href=\"/currencies/avalanche/\"><span class=\"circle\"></span><span>Avalanche</span><span class=\"crypto-symbol\">AVAX</span></a></td>"
      ]
     },
     "execution_count": 64,
     "metadata": {},
     "output_type": "execute_result"
    }
   ],
   "source": [
    "td_tags_2[2]"
   ]
  },
  {
   "cell_type": "code",
   "execution_count": 65,
   "id": "4e0c7daa",
   "metadata": {},
   "outputs": [
    {
     "data": {
      "text/plain": [
       "[<span class=\"circle\"></span>,\n",
       " <span>Avalanche</span>,\n",
       " <span class=\"crypto-symbol\">AVAX</span>]"
      ]
     },
     "execution_count": 65,
     "metadata": {},
     "output_type": "execute_result"
    }
   ],
   "source": [
    "span=td_tags_2[2].a.find_all('span')\n",
    "span"
   ]
  },
  {
   "cell_type": "code",
   "execution_count": 66,
   "id": "77ae9656",
   "metadata": {},
   "outputs": [
    {
     "data": {
      "text/plain": [
       "'/currencies/avalanche/'"
      ]
     },
     "execution_count": 66,
     "metadata": {},
     "output_type": "execute_result"
    }
   ],
   "source": [
    "td_tags_2[2].a['href']"
   ]
  },
  {
   "cell_type": "code",
   "execution_count": 67,
   "id": "2a0930de",
   "metadata": {},
   "outputs": [
    {
     "data": {
      "text/plain": [
       "'Avalanche'"
      ]
     },
     "execution_count": 67,
     "metadata": {},
     "output_type": "execute_result"
    }
   ],
   "source": [
    "span[1].text"
   ]
  },
  {
   "cell_type": "code",
   "execution_count": 68,
   "id": "8be2d696",
   "metadata": {},
   "outputs": [
    {
     "data": {
      "text/plain": [
       "'AVAX'"
      ]
     },
     "execution_count": 68,
     "metadata": {},
     "output_type": "execute_result"
    }
   ],
   "source": [
    "span[2].text"
   ]
  },
  {
   "cell_type": "code",
   "execution_count": 69,
   "id": "e22e0719",
   "metadata": {},
   "outputs": [
    {
     "data": {
      "text/plain": [
       "'$71.42'"
      ]
     },
     "execution_count": 69,
     "metadata": {},
     "output_type": "execute_result"
    }
   ],
   "source": [
    "td_tags_2[3].text"
   ]
  },
  {
   "cell_type": "code",
   "execution_count": 70,
   "id": "1813adfe",
   "metadata": {},
   "outputs": [],
   "source": [
    "# Part 2 - Cryptocurrencies ranking form 11 to 100\n",
    "# Function for to get `4` details `Name`, `Price` , `Symbol` and `URL` of cryptocurrencies that are ranked between 11 and 100"
   ]
  },
  {
   "cell_type": "code",
   "execution_count": 71,
   "id": "0f56f56c",
   "metadata": {},
   "outputs": [],
   "source": [
    "def cryptocurrency_part_two(tr_tag):\n",
    "    \n",
    "    td_tags_2= tr_tag.find_all('td')\n",
    "    span=td_tags_2[2].a.find_all('span')\n",
    "    name = span[1].text\n",
    "    symbol= span[2].text\n",
    "    price_in_USD1 = td_tags[3].text\n",
    "    price_in_USD = price_in_USD1.replace(',','')\n",
    "    base_url = 'https://coinmarketcap.com'\n",
    "    url_Cryptocurrency = td_tags_2[2].a['href'].strip()\n",
    "    url = base_url + url_Cryptocurrency\n",
    "    return{\n",
    "    'Name_of_the_Cruptocurrency ' : name,\n",
    "    'symbol_of_Cruptocurrency': symbol, \n",
    "    'Price_in_USD' : price_in_USD,\n",
    "    'url':url\n",
    "    }"
   ]
  },
  {
   "cell_type": "code",
   "execution_count": 72,
   "id": "1131109f",
   "metadata": {},
   "outputs": [
    {
     "data": {
      "text/plain": [
       "{'Name_of_the_Cruptocurrency ': 'Avalanche',\n",
       " 'symbol_of_Cruptocurrency': 'AVAX',\n",
       " 'Price_in_USD': '$35983.14',\n",
       " 'url': 'https://coinmarketcap.com/currencies/avalanche/'}"
      ]
     },
     "execution_count": 72,
     "metadata": {},
     "output_type": "execute_result"
    }
   ],
   "source": [
    "cryptocurrency_part_two(tr_tags[10])"
   ]
  },
  {
   "cell_type": "code",
   "execution_count": 73,
   "id": "9e4b86ba",
   "metadata": {},
   "outputs": [
    {
     "data": {
      "text/plain": [
       "{'Name_of_the_Cruptocurrency ': 'Qtum',\n",
       " 'symbol_of_Cruptocurrency': 'QTUM',\n",
       " 'Price_in_USD': '$35983.14',\n",
       " 'url': 'https://coinmarketcap.com/currencies/qtum/'}"
      ]
     },
     "execution_count": 73,
     "metadata": {},
     "output_type": "execute_result"
    }
   ],
   "source": [
    "cryptocurrency_part_two(tr_tags[99])"
   ]
  },
  {
   "cell_type": "code",
   "execution_count": 74,
   "id": "f462a51a",
   "metadata": {},
   "outputs": [],
   "source": [
    "Cryptocurrency_part_two =[cryptocurrency_part_two(tr_tags[i]) for i in range(10,100)]"
   ]
  },
  {
   "cell_type": "code",
   "execution_count": 75,
   "id": "1fcb6820",
   "metadata": {},
   "outputs": [
    {
     "data": {
      "text/plain": [
       "[{'Name_of_the_Cruptocurrency ': 'Avalanche',\n",
       "  'symbol_of_Cruptocurrency': 'AVAX',\n",
       "  'Price_in_USD': '$35983.14',\n",
       "  'url': 'https://coinmarketcap.com/currencies/avalanche/'},\n",
       " {'Name_of_the_Cruptocurrency ': 'Dogecoin',\n",
       "  'symbol_of_Cruptocurrency': 'DOGE',\n",
       "  'Price_in_USD': '$35983.14',\n",
       "  'url': 'https://coinmarketcap.com/currencies/dogecoin/'},\n",
       " {'Name_of_the_Cruptocurrency ': 'Polkadot',\n",
       "  'symbol_of_Cruptocurrency': 'DOT',\n",
       "  'Price_in_USD': '$35983.14',\n",
       "  'url': 'https://coinmarketcap.com/currencies/polkadot-new/'},\n",
       " {'Name_of_the_Cruptocurrency ': 'Shiba Inu',\n",
       "  'symbol_of_Cruptocurrency': 'SHIB',\n",
       "  'Price_in_USD': '$35983.14',\n",
       "  'url': 'https://coinmarketcap.com/currencies/shiba-inu/'},\n",
       " {'Name_of_the_Cruptocurrency ': 'TerraUSD',\n",
       "  'symbol_of_Cruptocurrency': 'UST',\n",
       "  'Price_in_USD': '$35983.14',\n",
       "  'url': 'https://coinmarketcap.com/currencies/terrausd/'}]"
      ]
     },
     "execution_count": 75,
     "metadata": {},
     "output_type": "execute_result"
    }
   ],
   "source": [
    "Cryptocurrency_part_two[:5]"
   ]
  },
  {
   "cell_type": "code",
   "execution_count": 76,
   "id": "36e9cc2c",
   "metadata": {},
   "outputs": [
    {
     "data": {
      "text/plain": [
       "[{'Name_of_the_Cruptocurrency ': 'IoTeX',\n",
       "  'symbol_of_Cruptocurrency': 'IOTX',\n",
       "  'Price_in_USD': '$35983.14',\n",
       "  'url': 'https://coinmarketcap.com/currencies/iotex/'},\n",
       " {'Name_of_the_Cruptocurrency ': 'renBTC',\n",
       "  'symbol_of_Cruptocurrency': 'RENBTC',\n",
       "  'Price_in_USD': '$35983.14',\n",
       "  'url': 'https://coinmarketcap.com/currencies/renbtc/'},\n",
       " {'Name_of_the_Cruptocurrency ': 'XDC Network',\n",
       "  'symbol_of_Cruptocurrency': 'XDC',\n",
       "  'Price_in_USD': '$35983.14',\n",
       "  'url': 'https://coinmarketcap.com/currencies/xinfin/'},\n",
       " {'Name_of_the_Cruptocurrency ': 'Gnosis',\n",
       "  'symbol_of_Cruptocurrency': 'GNO',\n",
       "  'Price_in_USD': '$35983.14',\n",
       "  'url': 'https://coinmarketcap.com/currencies/gnosis-gno/'},\n",
       " {'Name_of_the_Cruptocurrency ': 'Qtum',\n",
       "  'symbol_of_Cruptocurrency': 'QTUM',\n",
       "  'Price_in_USD': '$35983.14',\n",
       "  'url': 'https://coinmarketcap.com/currencies/qtum/'}]"
      ]
     },
     "execution_count": 76,
     "metadata": {},
     "output_type": "execute_result"
    }
   ],
   "source": [
    "Cryptocurrency_part_two[-5:]"
   ]
  },
  {
   "cell_type": "code",
   "execution_count": 77,
   "id": "1a520b0b",
   "metadata": {},
   "outputs": [],
   "source": [
    "# Part 3 - Function to get cryptocurrencies ranking from `1 to 10 (Part 1)` and `11 to 100 (Part 2)`\n",
    "\n",
    "#Function for to get 4 details `Name`, `Price`, `Symbol` and `URL` that are common to cryptocurrencies ranked between 1 and 100"
   ]
  },
  {
   "cell_type": "code",
   "execution_count": 78,
   "id": "d38eaaf5",
   "metadata": {},
   "outputs": [
    {
     "data": {
      "text/plain": [
       "100"
      ]
     },
     "execution_count": 78,
     "metadata": {},
     "output_type": "execute_result"
    }
   ],
   "source": [
    "len(tr_tags)"
   ]
  },
  {
   "cell_type": "code",
   "execution_count": 79,
   "id": "c2616117",
   "metadata": {},
   "outputs": [],
   "source": [
    "def complete_cryptocurrencies_list(tr_tag):\n",
    "    td_tags = tr_tag.find_all('td')\n",
    "    \n",
    "    if (tr_tags.index(tr_tag))<10:\n",
    "        td_tag=td_tags[2]\n",
    "        div_in_td = td_tag.find_all('div', class_='sc-16r8icm-0 escjiH') \n",
    "        name2 = div_in_td[0].find_all('p', class_='sc-1eb5slv-0 iworPT')\n",
    "        name = name2[0].text\n",
    "        symbol2 = div_in_td[0].find_all('p', class_='sc-1eb5slv-0 gGIpIK coin-item-symbol')\n",
    "        symbol= symbol2[0].text\n",
    "        price_in_USD1 = td_tags[3].text\n",
    "        price_in_USD = price_in_USD1.replace(',','')\n",
    "        base_url = 'https://coinmarketcap.com'\n",
    "        url_Cryptocurrency = td_tag.a['href'].strip()\n",
    "        URL = base_url + url_Cryptocurrency\n",
    "        \n",
    "    else:    \n",
    "        span=td_tags[2].a.find_all('span')\n",
    "        name = span[1].text\n",
    "        symbol= span[2].text\n",
    "        price_in_USD1 = td_tags_2[3].text\n",
    "        price_in_USD = price_in_USD1.replace(',','')\n",
    "        base_url = 'https://coinmarketcap.com'\n",
    "        url_Cryptocurrency = td_tags_2[2].a['href'].strip()\n",
    "        URL = base_url + url_Cryptocurrency\n",
    "    \n",
    "    return{\n",
    "        'Name_of_the_Cryptocurrency' : name,\n",
    "        'Symbol_of_Cryptocurrency': symbol, \n",
    "        'Price_in_USD' : price_in_USD,\n",
    "        'URL':URL\n",
    "        }"
   ]
  },
  {
   "cell_type": "code",
   "execution_count": 80,
   "id": "125beb66",
   "metadata": {},
   "outputs": [],
   "source": [
    "top_100_cryptocurrenices = [complete_cryptocurrencies_list(tr_tags[i]) for i in range(100)]"
   ]
  },
  {
   "cell_type": "code",
   "execution_count": 81,
   "id": "2f2cc78f",
   "metadata": {},
   "outputs": [
    {
     "data": {
      "text/plain": [
       "[{'Name_of_the_Cryptocurrency': 'Bitcoin',\n",
       "  'Symbol_of_Cryptocurrency': 'BTC',\n",
       "  'Price_in_USD': '$35983.14',\n",
       "  'URL': 'https://coinmarketcap.com/currencies/bitcoin/'},\n",
       " {'Name_of_the_Cryptocurrency': 'Ethereum',\n",
       "  'Symbol_of_Cryptocurrency': 'ETH',\n",
       "  'Price_in_USD': '$2459.88',\n",
       "  'URL': 'https://coinmarketcap.com/currencies/ethereum/'},\n",
       " {'Name_of_the_Cryptocurrency': 'Tether',\n",
       "  'Symbol_of_Cryptocurrency': 'USDT',\n",
       "  'Price_in_USD': '$1.00',\n",
       "  'URL': 'https://coinmarketcap.com/currencies/tether/'},\n",
       " {'Name_of_the_Cryptocurrency': 'BNB',\n",
       "  'Symbol_of_Cryptocurrency': 'BNB',\n",
       "  'Price_in_USD': '$345.27',\n",
       "  'URL': 'https://coinmarketcap.com/currencies/bnb/'},\n",
       " {'Name_of_the_Cryptocurrency': 'USD Coin',\n",
       "  'Symbol_of_Cryptocurrency': 'USDC',\n",
       "  'Price_in_USD': '$1.00',\n",
       "  'URL': 'https://coinmarketcap.com/currencies/usd-coin/'}]"
      ]
     },
     "execution_count": 81,
     "metadata": {},
     "output_type": "execute_result"
    }
   ],
   "source": [
    "top_100_cryptocurrenices[:5]"
   ]
  },
  {
   "cell_type": "code",
   "execution_count": 82,
   "id": "6fba7839",
   "metadata": {},
   "outputs": [
    {
     "data": {
      "text/plain": [
       "[{'Name_of_the_Cryptocurrency': 'IoTeX',\n",
       "  'Symbol_of_Cryptocurrency': 'IOTX',\n",
       "  'Price_in_USD': '$71.42',\n",
       "  'URL': 'https://coinmarketcap.com/currencies/avalanche/'},\n",
       " {'Name_of_the_Cryptocurrency': 'renBTC',\n",
       "  'Symbol_of_Cryptocurrency': 'RENBTC',\n",
       "  'Price_in_USD': '$71.42',\n",
       "  'URL': 'https://coinmarketcap.com/currencies/avalanche/'},\n",
       " {'Name_of_the_Cryptocurrency': 'XDC Network',\n",
       "  'Symbol_of_Cryptocurrency': 'XDC',\n",
       "  'Price_in_USD': '$71.42',\n",
       "  'URL': 'https://coinmarketcap.com/currencies/avalanche/'},\n",
       " {'Name_of_the_Cryptocurrency': 'Gnosis',\n",
       "  'Symbol_of_Cryptocurrency': 'GNO',\n",
       "  'Price_in_USD': '$71.42',\n",
       "  'URL': 'https://coinmarketcap.com/currencies/avalanche/'},\n",
       " {'Name_of_the_Cryptocurrency': 'Qtum',\n",
       "  'Symbol_of_Cryptocurrency': 'QTUM',\n",
       "  'Price_in_USD': '$71.42',\n",
       "  'URL': 'https://coinmarketcap.com/currencies/avalanche/'}]"
      ]
     },
     "execution_count": 82,
     "metadata": {},
     "output_type": "execute_result"
    }
   ],
   "source": [
    "top_100_cryptocurrenices[-5:]"
   ]
  },
  {
   "cell_type": "code",
   "execution_count": 83,
   "id": "4abd16bb",
   "metadata": {},
   "outputs": [],
   "source": [
    "# Writing a function to write the contents of lsit of dictonary into a .csv file \n",
    "\n",
    "def write_csv(items, path):\n",
    "    # Open the file in write mode\n",
    "    with open(path, 'w') as f:\n",
    "        # Return if there's nothing to write\n",
    "        if len(items) == 0:\n",
    "            return\n",
    "        \n",
    "        # Write the headers in the first line\n",
    "        headers = list(items[0].keys())\n",
    "        f.write(','.join(headers) + '\\n')\n",
    "        \n",
    "        # Write one item per line\n",
    "        for item in items:\n",
    "            values = []\n",
    "            for header in headers:\n",
    "                values.append(str(item.get(header, \"\")))\n",
    "            f.write(','.join(values) + \"\\n\")"
   ]
  },
  {
   "cell_type": "code",
   "execution_count": 84,
   "id": "6386b203",
   "metadata": {},
   "outputs": [],
   "source": [
    "write_csv(top_100_cryptocurrenices, 'top_100_cryptocurrenices.csv')"
   ]
  },
  {
   "cell_type": "code",
   "execution_count": 85,
   "id": "cd51c976",
   "metadata": {},
   "outputs": [],
   "source": [
    "# Part 4 - Adding rank numbers to the crytocurrenices \n",
    "#Writing ranks numbers 1 to 100 into a .csv file\n",
    "\n",
    "#Adding the rank lists as rank list is not avaiable in tr_tags[10] to tr_tags[99].\n",
    "\n",
    "#Function will write 100 numbers as ranks depending upon the page selected for scrapping. \n",
    "#For __page 1__ - Numbers `1 to 100` will be the output.\n",
    "#For __page 2__ - Numbers `101 to 200` will be the output and so on."
   ]
  },
  {
   "cell_type": "code",
   "execution_count": 86,
   "id": "407b9896",
   "metadata": {},
   "outputs": [],
   "source": [
    "def rank_list(page_number):\n",
    "    with open('rank_list.csv', 'w') as f:\n",
    "        f.write('Rank' + '\\n')\n",
    "        if page_number == 0: \n",
    "            page_number = 1\n",
    "        rank_range = [(((page_number-1)*100)+i) for i in range(1,101)]\n",
    "        for rank_number in rank_range:\n",
    "            f.write(str(rank_number) + '\\n')\n",
    "    return rank_range"
   ]
  },
  {
   "cell_type": "code",
   "execution_count": 87,
   "id": "ca7a2bb3",
   "metadata": {},
   "outputs": [],
   "source": [
    "#Importing pandas libary \n",
    "import pandas as pd"
   ]
  },
  {
   "cell_type": "code",
   "execution_count": 88,
   "id": "49ea24fb",
   "metadata": {},
   "outputs": [
    {
     "data": {
      "text/plain": [
       "(401, 500)"
      ]
     },
     "execution_count": 88,
     "metadata": {},
     "output_type": "execute_result"
    }
   ],
   "source": [
    "rank_list(5)[0], rank_list(5)[99]"
   ]
  },
  {
   "cell_type": "code",
   "execution_count": 89,
   "id": "f5463bac",
   "metadata": {},
   "outputs": [
    {
     "data": {
      "text/plain": [
       "(1, 100)"
      ]
     },
     "execution_count": 89,
     "metadata": {},
     "output_type": "execute_result"
    }
   ],
   "source": [
    "rank_list(1)[0], rank_list(1)[99]"
   ]
  },
  {
   "cell_type": "code",
   "execution_count": 90,
   "id": "e06f4963",
   "metadata": {},
   "outputs": [
    {
     "data": {
      "text/html": [
       "<div>\n",
       "<style scoped>\n",
       "    .dataframe tbody tr th:only-of-type {\n",
       "        vertical-align: middle;\n",
       "    }\n",
       "\n",
       "    .dataframe tbody tr th {\n",
       "        vertical-align: top;\n",
       "    }\n",
       "\n",
       "    .dataframe thead th {\n",
       "        text-align: right;\n",
       "    }\n",
       "</style>\n",
       "<table border=\"1\" class=\"dataframe\">\n",
       "  <thead>\n",
       "    <tr style=\"text-align: right;\">\n",
       "      <th></th>\n",
       "      <th>Rank</th>\n",
       "    </tr>\n",
       "  </thead>\n",
       "  <tbody>\n",
       "    <tr>\n",
       "      <th>0</th>\n",
       "      <td>1</td>\n",
       "    </tr>\n",
       "    <tr>\n",
       "      <th>1</th>\n",
       "      <td>2</td>\n",
       "    </tr>\n",
       "    <tr>\n",
       "      <th>2</th>\n",
       "      <td>3</td>\n",
       "    </tr>\n",
       "    <tr>\n",
       "      <th>3</th>\n",
       "      <td>4</td>\n",
       "    </tr>\n",
       "    <tr>\n",
       "      <th>4</th>\n",
       "      <td>5</td>\n",
       "    </tr>\n",
       "    <tr>\n",
       "      <th>...</th>\n",
       "      <td>...</td>\n",
       "    </tr>\n",
       "    <tr>\n",
       "      <th>95</th>\n",
       "      <td>96</td>\n",
       "    </tr>\n",
       "    <tr>\n",
       "      <th>96</th>\n",
       "      <td>97</td>\n",
       "    </tr>\n",
       "    <tr>\n",
       "      <th>97</th>\n",
       "      <td>98</td>\n",
       "    </tr>\n",
       "    <tr>\n",
       "      <th>98</th>\n",
       "      <td>99</td>\n",
       "    </tr>\n",
       "    <tr>\n",
       "      <th>99</th>\n",
       "      <td>100</td>\n",
       "    </tr>\n",
       "  </tbody>\n",
       "</table>\n",
       "<p>100 rows × 1 columns</p>\n",
       "</div>"
      ],
      "text/plain": [
       "    Rank\n",
       "0      1\n",
       "1      2\n",
       "2      3\n",
       "3      4\n",
       "4      5\n",
       "..   ...\n",
       "95    96\n",
       "96    97\n",
       "97    98\n",
       "98    99\n",
       "99   100\n",
       "\n",
       "[100 rows x 1 columns]"
      ]
     },
     "execution_count": 90,
     "metadata": {},
     "output_type": "execute_result"
    }
   ],
   "source": [
    "y1 = pd.read_csv('rank_list.csv')\n",
    "y1"
   ]
  },
  {
   "cell_type": "code",
   "execution_count": 91,
   "id": "c7ad6fce",
   "metadata": {},
   "outputs": [
    {
     "data": {
      "text/plain": [
       "pandas.core.frame.DataFrame"
      ]
     },
     "execution_count": 91,
     "metadata": {},
     "output_type": "execute_result"
    }
   ],
   "source": [
    "type(y1)"
   ]
  },
  {
   "cell_type": "code",
   "execution_count": 92,
   "id": "ae8595e0",
   "metadata": {},
   "outputs": [
    {
     "data": {
      "text/html": [
       "<div>\n",
       "<style scoped>\n",
       "    .dataframe tbody tr th:only-of-type {\n",
       "        vertical-align: middle;\n",
       "    }\n",
       "\n",
       "    .dataframe tbody tr th {\n",
       "        vertical-align: top;\n",
       "    }\n",
       "\n",
       "    .dataframe thead th {\n",
       "        text-align: right;\n",
       "    }\n",
       "</style>\n",
       "<table border=\"1\" class=\"dataframe\">\n",
       "  <thead>\n",
       "    <tr style=\"text-align: right;\">\n",
       "      <th></th>\n",
       "      <th>Name_of_the_Cryptocurrency</th>\n",
       "      <th>Symbol_of_Cryptocurrency</th>\n",
       "      <th>Price_in_USD</th>\n",
       "      <th>URL</th>\n",
       "    </tr>\n",
       "  </thead>\n",
       "  <tbody>\n",
       "    <tr>\n",
       "      <th>0</th>\n",
       "      <td>Bitcoin</td>\n",
       "      <td>BTC</td>\n",
       "      <td>$35983.14</td>\n",
       "      <td>https://coinmarketcap.com/currencies/bitcoin/</td>\n",
       "    </tr>\n",
       "    <tr>\n",
       "      <th>1</th>\n",
       "      <td>Ethereum</td>\n",
       "      <td>ETH</td>\n",
       "      <td>$2459.88</td>\n",
       "      <td>https://coinmarketcap.com/currencies/ethereum/</td>\n",
       "    </tr>\n",
       "    <tr>\n",
       "      <th>2</th>\n",
       "      <td>Tether</td>\n",
       "      <td>USDT</td>\n",
       "      <td>$1.00</td>\n",
       "      <td>https://coinmarketcap.com/currencies/tether/</td>\n",
       "    </tr>\n",
       "    <tr>\n",
       "      <th>3</th>\n",
       "      <td>BNB</td>\n",
       "      <td>BNB</td>\n",
       "      <td>$345.27</td>\n",
       "      <td>https://coinmarketcap.com/currencies/bnb/</td>\n",
       "    </tr>\n",
       "    <tr>\n",
       "      <th>4</th>\n",
       "      <td>USD Coin</td>\n",
       "      <td>USDC</td>\n",
       "      <td>$1.00</td>\n",
       "      <td>https://coinmarketcap.com/currencies/usd-coin/</td>\n",
       "    </tr>\n",
       "    <tr>\n",
       "      <th>...</th>\n",
       "      <td>...</td>\n",
       "      <td>...</td>\n",
       "      <td>...</td>\n",
       "      <td>...</td>\n",
       "    </tr>\n",
       "    <tr>\n",
       "      <th>95</th>\n",
       "      <td>IoTeX</td>\n",
       "      <td>IOTX</td>\n",
       "      <td>$71.42</td>\n",
       "      <td>https://coinmarketcap.com/currencies/avalanche/</td>\n",
       "    </tr>\n",
       "    <tr>\n",
       "      <th>96</th>\n",
       "      <td>renBTC</td>\n",
       "      <td>RENBTC</td>\n",
       "      <td>$71.42</td>\n",
       "      <td>https://coinmarketcap.com/currencies/avalanche/</td>\n",
       "    </tr>\n",
       "    <tr>\n",
       "      <th>97</th>\n",
       "      <td>XDC Network</td>\n",
       "      <td>XDC</td>\n",
       "      <td>$71.42</td>\n",
       "      <td>https://coinmarketcap.com/currencies/avalanche/</td>\n",
       "    </tr>\n",
       "    <tr>\n",
       "      <th>98</th>\n",
       "      <td>Gnosis</td>\n",
       "      <td>GNO</td>\n",
       "      <td>$71.42</td>\n",
       "      <td>https://coinmarketcap.com/currencies/avalanche/</td>\n",
       "    </tr>\n",
       "    <tr>\n",
       "      <th>99</th>\n",
       "      <td>Qtum</td>\n",
       "      <td>QTUM</td>\n",
       "      <td>$71.42</td>\n",
       "      <td>https://coinmarketcap.com/currencies/avalanche/</td>\n",
       "    </tr>\n",
       "  </tbody>\n",
       "</table>\n",
       "<p>100 rows × 4 columns</p>\n",
       "</div>"
      ],
      "text/plain": [
       "   Name_of_the_Cryptocurrency Symbol_of_Cryptocurrency Price_in_USD  \\\n",
       "0                     Bitcoin                      BTC    $35983.14   \n",
       "1                    Ethereum                      ETH     $2459.88   \n",
       "2                      Tether                     USDT        $1.00   \n",
       "3                         BNB                      BNB      $345.27   \n",
       "4                    USD Coin                     USDC        $1.00   \n",
       "..                        ...                      ...          ...   \n",
       "95                      IoTeX                     IOTX       $71.42   \n",
       "96                     renBTC                   RENBTC       $71.42   \n",
       "97                XDC Network                      XDC       $71.42   \n",
       "98                     Gnosis                      GNO       $71.42   \n",
       "99                       Qtum                     QTUM       $71.42   \n",
       "\n",
       "                                                URL  \n",
       "0     https://coinmarketcap.com/currencies/bitcoin/  \n",
       "1    https://coinmarketcap.com/currencies/ethereum/  \n",
       "2      https://coinmarketcap.com/currencies/tether/  \n",
       "3         https://coinmarketcap.com/currencies/bnb/  \n",
       "4    https://coinmarketcap.com/currencies/usd-coin/  \n",
       "..                                              ...  \n",
       "95  https://coinmarketcap.com/currencies/avalanche/  \n",
       "96  https://coinmarketcap.com/currencies/avalanche/  \n",
       "97  https://coinmarketcap.com/currencies/avalanche/  \n",
       "98  https://coinmarketcap.com/currencies/avalanche/  \n",
       "99  https://coinmarketcap.com/currencies/avalanche/  \n",
       "\n",
       "[100 rows x 4 columns]"
      ]
     },
     "execution_count": 92,
     "metadata": {},
     "output_type": "execute_result"
    }
   ],
   "source": [
    "y2 = pd.read_csv('top_100_cryptocurrenices.csv')\n",
    "y2"
   ]
  },
  {
   "cell_type": "code",
   "execution_count": 93,
   "id": "876a6019",
   "metadata": {},
   "outputs": [],
   "source": [
    "# Part 5 -  Merging two CSV files using `pd.DataFrame.join`\n",
    "\n",
    "# Merging two dataframes column wise into one dataframe"
   ]
  },
  {
   "cell_type": "code",
   "execution_count": 94,
   "id": "98b6d416",
   "metadata": {},
   "outputs": [
    {
     "data": {
      "text/html": [
       "<div>\n",
       "<style scoped>\n",
       "    .dataframe tbody tr th:only-of-type {\n",
       "        vertical-align: middle;\n",
       "    }\n",
       "\n",
       "    .dataframe tbody tr th {\n",
       "        vertical-align: top;\n",
       "    }\n",
       "\n",
       "    .dataframe thead th {\n",
       "        text-align: right;\n",
       "    }\n",
       "</style>\n",
       "<table border=\"1\" class=\"dataframe\">\n",
       "  <thead>\n",
       "    <tr style=\"text-align: right;\">\n",
       "      <th></th>\n",
       "      <th>Rank</th>\n",
       "      <th>Name_of_the_Cryptocurrency</th>\n",
       "      <th>Symbol_of_Cryptocurrency</th>\n",
       "      <th>Price_in_USD</th>\n",
       "      <th>URL</th>\n",
       "    </tr>\n",
       "  </thead>\n",
       "  <tbody>\n",
       "    <tr>\n",
       "      <th>0</th>\n",
       "      <td>1</td>\n",
       "      <td>Bitcoin</td>\n",
       "      <td>BTC</td>\n",
       "      <td>$35983.14</td>\n",
       "      <td>https://coinmarketcap.com/currencies/bitcoin/</td>\n",
       "    </tr>\n",
       "    <tr>\n",
       "      <th>1</th>\n",
       "      <td>2</td>\n",
       "      <td>Ethereum</td>\n",
       "      <td>ETH</td>\n",
       "      <td>$2459.88</td>\n",
       "      <td>https://coinmarketcap.com/currencies/ethereum/</td>\n",
       "    </tr>\n",
       "    <tr>\n",
       "      <th>2</th>\n",
       "      <td>3</td>\n",
       "      <td>Tether</td>\n",
       "      <td>USDT</td>\n",
       "      <td>$1.00</td>\n",
       "      <td>https://coinmarketcap.com/currencies/tether/</td>\n",
       "    </tr>\n",
       "    <tr>\n",
       "      <th>3</th>\n",
       "      <td>4</td>\n",
       "      <td>BNB</td>\n",
       "      <td>BNB</td>\n",
       "      <td>$345.27</td>\n",
       "      <td>https://coinmarketcap.com/currencies/bnb/</td>\n",
       "    </tr>\n",
       "    <tr>\n",
       "      <th>4</th>\n",
       "      <td>5</td>\n",
       "      <td>USD Coin</td>\n",
       "      <td>USDC</td>\n",
       "      <td>$1.00</td>\n",
       "      <td>https://coinmarketcap.com/currencies/usd-coin/</td>\n",
       "    </tr>\n",
       "    <tr>\n",
       "      <th>...</th>\n",
       "      <td>...</td>\n",
       "      <td>...</td>\n",
       "      <td>...</td>\n",
       "      <td>...</td>\n",
       "      <td>...</td>\n",
       "    </tr>\n",
       "    <tr>\n",
       "      <th>95</th>\n",
       "      <td>96</td>\n",
       "      <td>IoTeX</td>\n",
       "      <td>IOTX</td>\n",
       "      <td>$71.42</td>\n",
       "      <td>https://coinmarketcap.com/currencies/avalanche/</td>\n",
       "    </tr>\n",
       "    <tr>\n",
       "      <th>96</th>\n",
       "      <td>97</td>\n",
       "      <td>renBTC</td>\n",
       "      <td>RENBTC</td>\n",
       "      <td>$71.42</td>\n",
       "      <td>https://coinmarketcap.com/currencies/avalanche/</td>\n",
       "    </tr>\n",
       "    <tr>\n",
       "      <th>97</th>\n",
       "      <td>98</td>\n",
       "      <td>XDC Network</td>\n",
       "      <td>XDC</td>\n",
       "      <td>$71.42</td>\n",
       "      <td>https://coinmarketcap.com/currencies/avalanche/</td>\n",
       "    </tr>\n",
       "    <tr>\n",
       "      <th>98</th>\n",
       "      <td>99</td>\n",
       "      <td>Gnosis</td>\n",
       "      <td>GNO</td>\n",
       "      <td>$71.42</td>\n",
       "      <td>https://coinmarketcap.com/currencies/avalanche/</td>\n",
       "    </tr>\n",
       "    <tr>\n",
       "      <th>99</th>\n",
       "      <td>100</td>\n",
       "      <td>Qtum</td>\n",
       "      <td>QTUM</td>\n",
       "      <td>$71.42</td>\n",
       "      <td>https://coinmarketcap.com/currencies/avalanche/</td>\n",
       "    </tr>\n",
       "  </tbody>\n",
       "</table>\n",
       "<p>100 rows × 5 columns</p>\n",
       "</div>"
      ],
      "text/plain": [
       "    Rank Name_of_the_Cryptocurrency Symbol_of_Cryptocurrency Price_in_USD  \\\n",
       "0      1                    Bitcoin                      BTC    $35983.14   \n",
       "1      2                   Ethereum                      ETH     $2459.88   \n",
       "2      3                     Tether                     USDT        $1.00   \n",
       "3      4                        BNB                      BNB      $345.27   \n",
       "4      5                   USD Coin                     USDC        $1.00   \n",
       "..   ...                        ...                      ...          ...   \n",
       "95    96                      IoTeX                     IOTX       $71.42   \n",
       "96    97                     renBTC                   RENBTC       $71.42   \n",
       "97    98                XDC Network                      XDC       $71.42   \n",
       "98    99                     Gnosis                      GNO       $71.42   \n",
       "99   100                       Qtum                     QTUM       $71.42   \n",
       "\n",
       "                                                URL  \n",
       "0     https://coinmarketcap.com/currencies/bitcoin/  \n",
       "1    https://coinmarketcap.com/currencies/ethereum/  \n",
       "2      https://coinmarketcap.com/currencies/tether/  \n",
       "3         https://coinmarketcap.com/currencies/bnb/  \n",
       "4    https://coinmarketcap.com/currencies/usd-coin/  \n",
       "..                                              ...  \n",
       "95  https://coinmarketcap.com/currencies/avalanche/  \n",
       "96  https://coinmarketcap.com/currencies/avalanche/  \n",
       "97  https://coinmarketcap.com/currencies/avalanche/  \n",
       "98  https://coinmarketcap.com/currencies/avalanche/  \n",
       "99  https://coinmarketcap.com/currencies/avalanche/  \n",
       "\n",
       "[100 rows x 5 columns]"
      ]
     },
     "execution_count": 94,
     "metadata": {},
     "output_type": "execute_result"
    }
   ],
   "source": [
    "Top_100_Cryptocurrencies_with_rank= pd.DataFrame.join(y1, y2)\n",
    "Top_100_Cryptocurrencies_with_rank"
   ]
  },
  {
   "cell_type": "code",
   "execution_count": 95,
   "id": "47e60484",
   "metadata": {},
   "outputs": [],
   "source": [
    "### Writing the final output into the .csv file using `DataFrame.to_csv` function\n",
    "\n",
    "Top_100_Cryptocurrencies_with_rank.to_csv('Top_100_Cryptocurrencies_with_rank.csv', index=False)"
   ]
  },
  {
   "cell_type": "code",
   "execution_count": 96,
   "id": "233a8ce5",
   "metadata": {},
   "outputs": [],
   "source": [
    "#Part 6 - End user function that scraps any page of the website from [https://coinmarketcap.com/](https://coinmarketcap.com/)\n",
    "\n",
    "!pip install requests --upgrade --quiet\n",
    "import requests\n",
    "from bs4 import BeautifulSoup\n",
    "import pandas as pd\n",
    "\n",
    "def final_output(topic, page_number = 1):    \n",
    "    doc = get_topic_page1(topic, page_number)\n",
    "    tr_tags = doc.tbody.find_all('tr')\n",
    "    top_100_cryptocurrenices = [complete_cryptocurrencies_list1(tr_tags[i], doc) for i in range(100)]\n",
    "    write_csv1(top_100_cryptocurrenices, 'top_100_cryptocurrenices.csv')\n",
    "    rank_number = rank_list(page_number)  \n",
    "    y1 = pd.read_csv('rank.csv')\n",
    "    y2 = pd.read_csv('top_100_cryptocurrenices.csv')\n",
    "    Final_Output= pd.DataFrame.join(y1, y2)\n",
    "    print('The global cryptocurrenices ranking from', rank_number[0], 'to', rank_number[99], '\\n\\n' ,Final_Output)\n",
    "    print('The output file is stored as Final_Output.csv')\n",
    "    return Final_Output.to_csv('Final_Output.csv', index=False)\n",
    "\n",
    "\n",
    "def get_topic_page1(topic, page):\n",
    "    topic_with_page= topic + '/?page=' + str(page)\n",
    "    response = requests.get(topic_with_page)\n",
    "    with open('Cryptocurrency_test.html', 'w') as f:\n",
    "        f.write(response.text)\n",
    "    if not response.ok:\n",
    "        print('Status code:', response.status_code)\n",
    "        raise Exception('Failed to fetch web page' + topic)\n",
    "    return BeautifulSoup(response.text)\n",
    "\n",
    "\n",
    "def complete_cryptocurrencies_list1(tr_tag, document):\n",
    "    \n",
    "    tr_tags = document.tbody.find_all('tr')\n",
    "    base_url = 'https://coinmarketcap.com'\n",
    "    td_tags = tr_tag.find_all('td')\n",
    "    if tr_tags.index(tr_tag)<10:\n",
    "        td_tag=td_tags[2]\n",
    "        div_in_td = td_tag.find_all('div', class_='sc-16r8icm-0 escjiH') \n",
    "        name2 = div_in_td[0].find_all('p', class_='sc-1eb5slv-0 iworPT') \n",
    "        name = name2[0].text\n",
    "        symbol2 = div_in_td[0].find_all('p', class_='sc-1eb5slv-0 gGIpIK coin-item-symbol')\n",
    "        symbol= symbol2[0].text\n",
    "        price_in_USD1 = td_tags[3].text\n",
    "        price_in_USD = price_in_USD1.replace(',','')\n",
    "        url_Cryptocurrency = td_tag.a['href'].strip()\n",
    "        URL = base_url + url_Cryptocurrency\n",
    "    else:\n",
    "        span=td_tags[2].a.find_all('span')\n",
    "        name = span[1].text\n",
    "        symbol= span[2].text\n",
    "        price_in_USD1 = td_tags[3].text\n",
    "        price_in_USD = price_in_USD1.replace(',','')\n",
    "        url_Cryptocurrency = td_tags[2].a['href'].strip()\n",
    "        URL = base_url + url_Cryptocurrency\n",
    "    return{\n",
    "    'Name' : name,\n",
    "    'Symbol': symbol, \n",
    "    'Price_in_USD' : price_in_USD,\n",
    "    'URL':URL\n",
    "        }\n",
    "\n",
    "def rank_list(page_number):\n",
    "    with open('rank.csv', 'w') as f:\n",
    "        f.write('Rank' + '\\n')\n",
    "        if page_number == 0: \n",
    "            page_number = 1\n",
    "        rank_range = [(((page_number-1)*100)+i) for i in range(1,101)]\n",
    "        for rank_number in rank_range:\n",
    "            f.write(str(rank_number) + '\\n')\n",
    "    return rank_range\n",
    "        \n",
    "def write_csv1(items, path):\n",
    "    \"\"\"Write a list of dictionaries to a CSV file\"\"\"\n",
    "    with open(path, 'w') as f:\n",
    "        if len(items) == 0:\n",
    "            return\n",
    "        headers = list(items[0].keys())\n",
    "        f.write(','.join(headers) + '\\n')\n",
    "        for item in items:\n",
    "            values = []\n",
    "            for header in headers:\n",
    "                values.append(str(item.get(header, \"\")))\n",
    "            f.write(','.join(values) + \"\\n\")"
   ]
  },
  {
   "cell_type": "code",
   "execution_count": 97,
   "id": "aa9baa4a",
   "metadata": {},
   "outputs": [
    {
     "name": "stdout",
     "output_type": "stream",
     "text": [
      "The global cryptocurrenices ranking from 1 to 100 \n",
      "\n",
      "     Rank         Name  Symbol Price_in_USD  \\\n",
      "0      1      Bitcoin     BTC    $35963.55   \n",
      "1      2     Ethereum     ETH     $2457.98   \n",
      "2      3       Tether    USDT        $1.00   \n",
      "3      4          BNB     BNB      $345.19   \n",
      "4      5     USD Coin    USDC        $1.00   \n",
      "..   ...          ...     ...          ...   \n",
      "95    96        IoTeX    IOTX        $0.07   \n",
      "96    97       renBTC  RENBTC    $35939.28   \n",
      "97    98  XDC Network     XDC        $0.05   \n",
      "98    99       Gnosis     GNO      $301.90   \n",
      "99   100         Qtum    QTUM        $5.46   \n",
      "\n",
      "                                                 URL  \n",
      "0      https://coinmarketcap.com/currencies/bitcoin/  \n",
      "1     https://coinmarketcap.com/currencies/ethereum/  \n",
      "2       https://coinmarketcap.com/currencies/tether/  \n",
      "3          https://coinmarketcap.com/currencies/bnb/  \n",
      "4     https://coinmarketcap.com/currencies/usd-coin/  \n",
      "..                                               ...  \n",
      "95       https://coinmarketcap.com/currencies/iotex/  \n",
      "96      https://coinmarketcap.com/currencies/renbtc/  \n",
      "97      https://coinmarketcap.com/currencies/xinfin/  \n",
      "98  https://coinmarketcap.com/currencies/gnosis-gno/  \n",
      "99        https://coinmarketcap.com/currencies/qtum/  \n",
      "\n",
      "[100 rows x 5 columns]\n",
      "The output file is stored as Final_Output.csv\n"
     ]
    }
   ],
   "source": [
    "#Scrappng first 100 global Cryptocurrencies based on their Market Cap or page 1 from https://coinmarketcap.com/\n",
    "topic= 'https://coinmarketcap.com/'\n",
    "final_output(topic)"
   ]
  },
  {
   "cell_type": "code",
   "execution_count": 98,
   "id": "71365c25",
   "metadata": {},
   "outputs": [
    {
     "name": "stdout",
     "output_type": "stream",
     "text": [
      "The global cryptocurrenices ranking from 901 to 1000 \n",
      "\n",
      "     Rank                   Name Symbol Price_in_USD  \\\n",
      "0    901          Visor.Finance   VISR      $0.3453   \n",
      "1    902                 Anchor   ANCT      $0.7999   \n",
      "2    903            Valor Token  VALOR      $0.5115   \n",
      "3    904                 OneArt   1ART      $0.1055   \n",
      "4    905   Gemma Extending Tech    GXT      $0.1479   \n",
      "..   ...                    ...    ...          ...   \n",
      "95   996         BnkToTheFuture    BFT        $0.01   \n",
      "96   997                   Swop   SWOP        $3.67   \n",
      "97   998                JulSwap   JULD        $0.01   \n",
      "98   999  Galatasaray Fan Token    GAL        $2.23   \n",
      "99  1000        Idavoll Network    IDV        $0.01   \n",
      "\n",
      "                                                  URL  \n",
      "0   https://coinmarketcap.com/currencies/visor-fin...  \n",
      "1        https://coinmarketcap.com/currencies/anchor/  \n",
      "2   https://coinmarketcap.com/currencies/valor-token/  \n",
      "3     https://coinmarketcap.com/currencies/artwallet/  \n",
      "4   https://coinmarketcap.com/currencies/gemma-ext...  \n",
      "..                                                ...  \n",
      "95  https://coinmarketcap.com/currencies/bnktothef...  \n",
      "96         https://coinmarketcap.com/currencies/swop/  \n",
      "97      https://coinmarketcap.com/currencies/julswap/  \n",
      "98  https://coinmarketcap.com/currencies/galatasar...  \n",
      "99  https://coinmarketcap.com/currencies/idavoll-n...  \n",
      "\n",
      "[100 rows x 5 columns]\n",
      "The output file is stored as Final_Output.csv\n"
     ]
    }
   ],
   "source": [
    "#Scrappng `page 36` from https://coinmarketcap.com/ and getting a list of 100 Cryptocurrenies of that respective page\n",
    "topic= 'https://coinmarketcap.com/'\n",
    "final_output(topic, 10)"
   ]
  },
  {
   "cell_type": "code",
   "execution_count": null,
   "id": "f26510ad",
   "metadata": {},
   "outputs": [],
   "source": []
  }
 ],
 "metadata": {
  "kernelspec": {
   "display_name": "Python 3 (ipykernel)",
   "language": "python",
   "name": "python3"
  },
  "language_info": {
   "codemirror_mode": {
    "name": "ipython",
    "version": 3
   },
   "file_extension": ".py",
   "mimetype": "text/x-python",
   "name": "python",
   "nbconvert_exporter": "python",
   "pygments_lexer": "ipython3",
   "version": "3.10.1"
  }
 },
 "nbformat": 4,
 "nbformat_minor": 5
}
